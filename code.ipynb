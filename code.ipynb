{
 "cells": [
  {
   "cell_type": "code",
   "execution_count": 1,
   "id": "fdf76d34-ea0c-4ac2-b87a-cc17026c12d6",
   "metadata": {},
   "outputs": [],
   "source": [
    "import pandas as pd"
   ]
  },
  {
   "cell_type": "code",
   "execution_count": 2,
   "id": "c77e31a6-76d7-4c46-ad40-4b48a23b24eb",
   "metadata": {},
   "outputs": [],
   "source": [
    "em = pd.read_csv('employee_data.csv')\n",
    "train_dev = pd.read_csv('training_and_development_data.csv')\n",
    "rec = pd.read_csv('recruitment_data.csv')\n",
    "em_enga_sur = pd.read_csv('employee_engagement_survey_data.csv')"
   ]
  },
  {
   "cell_type": "code",
   "execution_count": 3,
   "id": "9e0a4ec3-91a8-4822-9854-454bbe62a325",
   "metadata": {},
   "outputs": [
    {
     "name": "stdout",
     "output_type": "stream",
     "text": [
      "<class 'pandas.core.frame.DataFrame'>\n",
      "RangeIndex: 3000 entries, 0 to 2999\n",
      "Data columns (total 26 columns):\n",
      " #   Column                      Non-Null Count  Dtype \n",
      "---  ------                      --------------  ----- \n",
      " 0   EmpID                       3000 non-null   int64 \n",
      " 1   FirstName                   3000 non-null   object\n",
      " 2   LastName                    3000 non-null   object\n",
      " 3   StartDate                   3000 non-null   object\n",
      " 4   ExitDate                    1533 non-null   object\n",
      " 5   Title                       3000 non-null   object\n",
      " 6   Supervisor                  3000 non-null   object\n",
      " 7   ADEmail                     3000 non-null   object\n",
      " 8   BusinessUnit                3000 non-null   object\n",
      " 9   EmployeeStatus              3000 non-null   object\n",
      " 10  EmployeeType                3000 non-null   object\n",
      " 11  PayZone                     3000 non-null   object\n",
      " 12  EmployeeClassificationType  3000 non-null   object\n",
      " 13  TerminationType             3000 non-null   object\n",
      " 14  TerminationDescription      1533 non-null   object\n",
      " 15  DepartmentType              3000 non-null   object\n",
      " 16  Division                    3000 non-null   object\n",
      " 17  DOB                         3000 non-null   object\n",
      " 18  State                       3000 non-null   object\n",
      " 19  JobFunctionDescription      3000 non-null   object\n",
      " 20  GenderCode                  3000 non-null   object\n",
      " 21  LocationCode                3000 non-null   int64 \n",
      " 22  RaceDesc                    3000 non-null   object\n",
      " 23  MaritalDesc                 3000 non-null   object\n",
      " 24  Performance Score           3000 non-null   object\n",
      " 25  Current Employee Rating     3000 non-null   int64 \n",
      "dtypes: int64(3), object(23)\n",
      "memory usage: 609.5+ KB\n"
     ]
    }
   ],
   "source": [
    "em.info()"
   ]
  },
  {
   "cell_type": "code",
   "execution_count": 4,
   "id": "76e07c6c-0869-44f3-8c06-8992a754e389",
   "metadata": {},
   "outputs": [
    {
     "name": "stdout",
     "output_type": "stream",
     "text": [
      "<class 'pandas.core.frame.DataFrame'>\n",
      "RangeIndex: 3000 entries, 0 to 2999\n",
      "Data columns (total 9 columns):\n",
      " #   Column                   Non-Null Count  Dtype  \n",
      "---  ------                   --------------  -----  \n",
      " 0   Employee ID              3000 non-null   int64  \n",
      " 1   Training Date            3000 non-null   object \n",
      " 2   Training Program Name    3000 non-null   object \n",
      " 3   Training Type            3000 non-null   object \n",
      " 4   Training Outcome         3000 non-null   object \n",
      " 5   Location                 3000 non-null   object \n",
      " 6   Trainer                  3000 non-null   object \n",
      " 7   Training Duration(Days)  3000 non-null   int64  \n",
      " 8   Training Cost            3000 non-null   float64\n",
      "dtypes: float64(1), int64(2), object(6)\n",
      "memory usage: 211.1+ KB\n"
     ]
    }
   ],
   "source": [
    "train_dev.info()"
   ]
  },
  {
   "cell_type": "code",
   "execution_count": 5,
   "id": "1a7f0aad-2799-4b0d-89df-e1308ea7a066",
   "metadata": {},
   "outputs": [
    {
     "name": "stdout",
     "output_type": "stream",
     "text": [
      "<class 'pandas.core.frame.DataFrame'>\n",
      "RangeIndex: 3000 entries, 0 to 2999\n",
      "Data columns (total 18 columns):\n",
      " #   Column               Non-Null Count  Dtype  \n",
      "---  ------               --------------  -----  \n",
      " 0   Applicant ID         3000 non-null   int64  \n",
      " 1   Application Date     3000 non-null   object \n",
      " 2   First Name           3000 non-null   object \n",
      " 3   Last Name            3000 non-null   object \n",
      " 4   Gender               3000 non-null   object \n",
      " 5   Date of Birth        3000 non-null   object \n",
      " 6   Phone Number         3000 non-null   object \n",
      " 7   Email                3000 non-null   object \n",
      " 8   Address              3000 non-null   object \n",
      " 9   City                 3000 non-null   object \n",
      " 10  State                3000 non-null   object \n",
      " 11  Zip Code             3000 non-null   int64  \n",
      " 12  Country              3000 non-null   object \n",
      " 13  Education Level      3000 non-null   object \n",
      " 14  Years of Experience  3000 non-null   int64  \n",
      " 15  Desired Salary       3000 non-null   float64\n",
      " 16  Job Title            3000 non-null   object \n",
      " 17  Status               3000 non-null   object \n",
      "dtypes: float64(1), int64(3), object(14)\n",
      "memory usage: 422.0+ KB\n"
     ]
    }
   ],
   "source": [
    "rec.info()"
   ]
  },
  {
   "cell_type": "code",
   "execution_count": 6,
   "id": "e1454c99-e644-43a8-a975-982bc3d0bc2d",
   "metadata": {},
   "outputs": [
    {
     "name": "stdout",
     "output_type": "stream",
     "text": [
      "<class 'pandas.core.frame.DataFrame'>\n",
      "RangeIndex: 3000 entries, 0 to 2999\n",
      "Data columns (total 5 columns):\n",
      " #   Column                   Non-Null Count  Dtype \n",
      "---  ------                   --------------  ----- \n",
      " 0   Employee ID              3000 non-null   int64 \n",
      " 1   Survey Date              3000 non-null   object\n",
      " 2   Engagement Score         3000 non-null   int64 \n",
      " 3   Satisfaction Score       3000 non-null   int64 \n",
      " 4   Work-Life Balance Score  3000 non-null   int64 \n",
      "dtypes: int64(4), object(1)\n",
      "memory usage: 117.3+ KB\n"
     ]
    }
   ],
   "source": [
    "em_enga_sur.info()"
   ]
  },
  {
   "cell_type": "code",
   "execution_count": 7,
   "id": "7f07254b-a390-42f4-9e5e-f98c67e28061",
   "metadata": {},
   "outputs": [],
   "source": [
    "em['StartDate'] = pd.to_datetime(em['StartDate'], format='%d-%b-%y', errors='coerce')\n",
    "em['ExitDate'] = pd.to_datetime(em['ExitDate'], format='%d-%b-%y', errors='coerce')\n",
    "em['TerminationDescription'] = em['TerminationDescription'].fillna('Unknown')\n",
    "em['DOB'] = pd.to_datetime(em['DOB'], format='%d-%m-%Y', errors='coerce')\n",
    "\n",
    "train_dev['Training Date'] = pd.to_datetime(train_dev['Training Date'], format='%d-%b-%y', errors='coerce')\n",
    "train_dev['Training Duration Days'] = train_dev['Training Duration(Days)']\n",
    "\n",
    "rec['Date of Birth'] = pd.to_datetime(rec['Date of Birth'], format='%d-%m-%Y', errors='coerce')\n",
    "rec['Application Date'] = pd.to_datetime(rec['Application Date'], format='%d-%b-%y', errors='coerce')\n",
    "rec=rec.drop('Phone Number', axis=1)\n",
    "\n",
    "em_enga_sur['Survey Date'] = pd.to_datetime(em_enga_sur['Survey Date'], format='%d-%m-%Y', errors='coerce')"
   ]
  },
  {
   "cell_type": "code",
   "execution_count": 8,
   "id": "ea31fa9c-cd6e-4b06-b5b4-cb39ccade0fc",
   "metadata": {},
   "outputs": [
    {
     "data": {
      "text/plain": [
       "(3000, 26)"
      ]
     },
     "execution_count": 8,
     "metadata": {},
     "output_type": "execute_result"
    }
   ],
   "source": [
    "em.shape"
   ]
  },
  {
   "cell_type": "code",
   "execution_count": 9,
   "id": "43ac6d10-f3fd-4910-b101-4d6804bf23fb",
   "metadata": {},
   "outputs": [
    {
     "data": {
      "text/plain": [
       "(3000, 10)"
      ]
     },
     "execution_count": 9,
     "metadata": {},
     "output_type": "execute_result"
    }
   ],
   "source": [
    "train_dev.shape"
   ]
  },
  {
   "cell_type": "code",
   "execution_count": 10,
   "id": "383975df-d5af-497a-be72-bb8da2132134",
   "metadata": {},
   "outputs": [
    {
     "data": {
      "text/plain": [
       "(3000, 17)"
      ]
     },
     "execution_count": 10,
     "metadata": {},
     "output_type": "execute_result"
    }
   ],
   "source": [
    "rec.shape"
   ]
  },
  {
   "cell_type": "code",
   "execution_count": 11,
   "id": "c36e1468-1cf3-4142-9c8a-260e71ff0635",
   "metadata": {},
   "outputs": [
    {
     "data": {
      "text/plain": [
       "(3000, 5)"
      ]
     },
     "execution_count": 11,
     "metadata": {},
     "output_type": "execute_result"
    }
   ],
   "source": [
    "em_enga_sur.shape"
   ]
  },
  {
   "cell_type": "code",
   "execution_count": 12,
   "id": "03a7f2a1-061f-4b1f-912f-42350401c346",
   "metadata": {},
   "outputs": [],
   "source": [
    "em.to_csv('clean_employee_data.csv', index=False)\n",
    "train_dev.to_csv('clean_training_and_development_data.csv', index=False)\n",
    "rec.to_csv('clean_recruitment_data.csv', index=False)\n",
    "em_enga_sur.to_csv('clean_employee_engagement_survey_data.csv', index=False)"
   ]
  },
  {
   "cell_type": "code",
   "execution_count": 13,
   "id": "3f8eb567-c9cc-42ac-b5d7-8ca83008398b",
   "metadata": {},
   "outputs": [
    {
     "name": "stdout",
     "output_type": "stream",
     "text": [
      "<class 'pandas.core.frame.DataFrame'>\n",
      "RangeIndex: 3000 entries, 0 to 2999\n",
      "Data columns (total 26 columns):\n",
      " #   Column                      Non-Null Count  Dtype         \n",
      "---  ------                      --------------  -----         \n",
      " 0   EmpID                       3000 non-null   int64         \n",
      " 1   FirstName                   3000 non-null   object        \n",
      " 2   LastName                    3000 non-null   object        \n",
      " 3   StartDate                   3000 non-null   datetime64[ns]\n",
      " 4   ExitDate                    1533 non-null   datetime64[ns]\n",
      " 5   Title                       3000 non-null   object        \n",
      " 6   Supervisor                  3000 non-null   object        \n",
      " 7   ADEmail                     3000 non-null   object        \n",
      " 8   BusinessUnit                3000 non-null   object        \n",
      " 9   EmployeeStatus              3000 non-null   object        \n",
      " 10  EmployeeType                3000 non-null   object        \n",
      " 11  PayZone                     3000 non-null   object        \n",
      " 12  EmployeeClassificationType  3000 non-null   object        \n",
      " 13  TerminationType             3000 non-null   object        \n",
      " 14  TerminationDescription      3000 non-null   object        \n",
      " 15  DepartmentType              3000 non-null   object        \n",
      " 16  Division                    3000 non-null   object        \n",
      " 17  DOB                         3000 non-null   datetime64[ns]\n",
      " 18  State                       3000 non-null   object        \n",
      " 19  JobFunctionDescription      3000 non-null   object        \n",
      " 20  GenderCode                  3000 non-null   object        \n",
      " 21  LocationCode                3000 non-null   int64         \n",
      " 22  RaceDesc                    3000 non-null   object        \n",
      " 23  MaritalDesc                 3000 non-null   object        \n",
      " 24  Performance Score           3000 non-null   object        \n",
      " 25  Current Employee Rating     3000 non-null   int64         \n",
      "dtypes: datetime64[ns](3), int64(3), object(20)\n",
      "memory usage: 609.5+ KB\n",
      "None\n",
      "<class 'pandas.core.frame.DataFrame'>\n",
      "RangeIndex: 3000 entries, 0 to 2999\n",
      "Data columns (total 10 columns):\n",
      " #   Column                   Non-Null Count  Dtype         \n",
      "---  ------                   --------------  -----         \n",
      " 0   Employee ID              3000 non-null   int64         \n",
      " 1   Training Date            3000 non-null   datetime64[ns]\n",
      " 2   Training Program Name    3000 non-null   object        \n",
      " 3   Training Type            3000 non-null   object        \n",
      " 4   Training Outcome         3000 non-null   object        \n",
      " 5   Location                 3000 non-null   object        \n",
      " 6   Trainer                  3000 non-null   object        \n",
      " 7   Training Duration(Days)  3000 non-null   int64         \n",
      " 8   Training Cost            3000 non-null   float64       \n",
      " 9   Training Duration Days   3000 non-null   int64         \n",
      "dtypes: datetime64[ns](1), float64(1), int64(3), object(5)\n",
      "memory usage: 234.5+ KB\n",
      "None\n",
      "<class 'pandas.core.frame.DataFrame'>\n",
      "RangeIndex: 3000 entries, 0 to 2999\n",
      "Data columns (total 17 columns):\n",
      " #   Column               Non-Null Count  Dtype         \n",
      "---  ------               --------------  -----         \n",
      " 0   Applicant ID         3000 non-null   int64         \n",
      " 1   Application Date     3000 non-null   datetime64[ns]\n",
      " 2   First Name           3000 non-null   object        \n",
      " 3   Last Name            3000 non-null   object        \n",
      " 4   Gender               3000 non-null   object        \n",
      " 5   Date of Birth        3000 non-null   datetime64[ns]\n",
      " 6   Email                3000 non-null   object        \n",
      " 7   Address              3000 non-null   object        \n",
      " 8   City                 3000 non-null   object        \n",
      " 9   State                3000 non-null   object        \n",
      " 10  Zip Code             3000 non-null   int64         \n",
      " 11  Country              3000 non-null   object        \n",
      " 12  Education Level      3000 non-null   object        \n",
      " 13  Years of Experience  3000 non-null   int64         \n",
      " 14  Desired Salary       3000 non-null   float64       \n",
      " 15  Job Title            3000 non-null   object        \n",
      " 16  Status               3000 non-null   object        \n",
      "dtypes: datetime64[ns](2), float64(1), int64(3), object(11)\n",
      "memory usage: 398.6+ KB\n",
      "None\n",
      "<class 'pandas.core.frame.DataFrame'>\n",
      "RangeIndex: 3000 entries, 0 to 2999\n",
      "Data columns (total 5 columns):\n",
      " #   Column                   Non-Null Count  Dtype         \n",
      "---  ------                   --------------  -----         \n",
      " 0   Employee ID              3000 non-null   int64         \n",
      " 1   Survey Date              3000 non-null   datetime64[ns]\n",
      " 2   Engagement Score         3000 non-null   int64         \n",
      " 3   Satisfaction Score       3000 non-null   int64         \n",
      " 4   Work-Life Balance Score  3000 non-null   int64         \n",
      "dtypes: datetime64[ns](1), int64(4)\n",
      "memory usage: 117.3 KB\n",
      "None\n"
     ]
    }
   ],
   "source": [
    "print(em.info())\n",
    "print(train_dev.info())\n",
    "print(rec.info())\n",
    "print(em_enga_sur.info())"
   ]
  },
  {
   "cell_type": "code",
   "execution_count": 30,
   "id": "df79cda7-be3c-426e-9475-109c253fd29e",
   "metadata": {},
   "outputs": [
    {
     "data": {
      "text/plain": [
       "array(['Fully Meets', 'Exceeds', 'Needs Improvement', 'PIP'], dtype=object)"
      ]
     },
     "execution_count": 30,
     "metadata": {},
     "output_type": "execute_result"
    }
   ],
   "source": [
    "em['Performance Score'].unique()"
   ]
  },
  {
   "cell_type": "code",
   "execution_count": 34,
   "id": "6aff5aff-be7d-48c1-8922-91a9aa2ec780",
   "metadata": {},
   "outputs": [
    {
     "data": {
      "text/plain": [
       "array(['Failed', 'Incomplete', 'Completed', 'Passed'], dtype=object)"
      ]
     },
     "execution_count": 34,
     "metadata": {},
     "output_type": "execute_result"
    }
   ],
   "source": [
    "train_dev['Training Outcome'].unique()\n"
   ]
  },
  {
   "cell_type": "code",
   "execution_count": 36,
   "id": "1cc2e5df-f10a-42ca-b240-c421a1a94aeb",
   "metadata": {},
   "outputs": [
    {
     "data": {
      "text/plain": [
       "array(['Interviewing', 'Rejected', 'In Review', 'Offered', 'Applied'],\n",
       "      dtype=object)"
      ]
     },
     "execution_count": 36,
     "metadata": {},
     "output_type": "execute_result"
    }
   ],
   "source": [
    "rec['Status'].unique()\n"
   ]
  },
  {
   "cell_type": "code",
   "execution_count": null,
   "id": "aff8538f-1354-44b1-a219-88ba89e38d20",
   "metadata": {},
   "outputs": [],
   "source": []
  }
 ],
 "metadata": {
  "kernelspec": {
   "display_name": "Python 3 (ipykernel)",
   "language": "python",
   "name": "python3"
  },
  "language_info": {
   "codemirror_mode": {
    "name": "ipython",
    "version": 3
   },
   "file_extension": ".py",
   "mimetype": "text/x-python",
   "name": "python",
   "nbconvert_exporter": "python",
   "pygments_lexer": "ipython3",
   "version": "3.12.4"
  }
 },
 "nbformat": 4,
 "nbformat_minor": 5
}
